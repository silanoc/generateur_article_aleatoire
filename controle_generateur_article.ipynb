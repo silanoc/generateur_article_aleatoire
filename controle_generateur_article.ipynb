{
 "cells": [
  {
   "cell_type": "markdown",
   "id": "d37077d4",
   "metadata": {},
   "source": [
    "# Le générateur en mode graphique\n",
    "## Controleur du générateur (terme technique)"
   ]
  },
  {
   "cell_type": "code",
   "execution_count": 7,
   "id": "9487a44f",
   "metadata": {},
   "outputs": [],
   "source": [
    "#!pip install ipywidgets"
   ]
  },
  {
   "cell_type": "code",
   "execution_count": 8,
   "id": "e2ffdf71",
   "metadata": {},
   "outputs": [],
   "source": [
    "import import_ipynb\n",
    "import vues_generateur_article as vues\n",
    "\n",
    "#import ipywidgets as widgets\n",
    "#from ipywidgets import TwoByTwoLayout\n",
    "#from IPython.display import display"
   ]
  },
  {
   "cell_type": "markdown",
   "id": "710bea9c",
   "metadata": {},
   "source": [
    "en cours de travail"
   ]
  }
 ],
 "metadata": {
  "kernelspec": {
   "display_name": "Python 3 (ipykernel)",
   "language": "python",
   "name": "python3"
  },
  "language_info": {
   "codemirror_mode": {
    "name": "ipython",
    "version": 3
   },
   "file_extension": ".py",
   "mimetype": "text/x-python",
   "name": "python",
   "nbconvert_exporter": "python",
   "pygments_lexer": "ipython3",
   "version": "3.11.4"
  }
 },
 "nbformat": 4,
 "nbformat_minor": 5
}
