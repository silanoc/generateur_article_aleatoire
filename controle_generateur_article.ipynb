{
 "cells": [
  {
   "cell_type": "markdown",
   "id": "d37077d4",
   "metadata": {},
   "source": [
    "# Le générateur en mode graphique\n",
    "## Controleur du générateur (terme technique)"
   ]
  },
  {
   "cell_type": "markdown",
   "id": "22383a91",
   "metadata": {},
   "source": [
    "- Autair : Silanoc\n",
    "- octobre 2023\n",
    "- version : 2.2"
   ]
  },
  {
   "cell_type": "code",
   "execution_count": 1,
   "id": "e2ffdf71",
   "metadata": {},
   "outputs": [
    {
     "name": "stdout",
     "output_type": "stream",
     "text": [
      "importing Jupyter notebook from vues_generateur_article.ipynb\n",
      "importing Jupyter notebook from generateur_article.ipynb\n",
      "Article Timothy Meyers ajouté\n",
      "Article Rue Louis Socquet ajouté\n",
      "Baixa Elle ne répond à sa famille Microsoft est une fête patronale de Colombie-Britannique Tout le nombre\n",
      "infini des vagues lueurs des morts\n",
      "dans le 7 avril 1757 date à West Hollywood\n",
      "En avril 1909 pour animer vos fêtes\n",
      "sacrifiez les biens des traits Les scénaristes de la retenir prisonnière de téléphonie etcÀ archiver durant des rayons de la parole et est située à de dissection du Chemin vert en plusieurs de brouillard\n",
      "dans ce sang des petits matins\n",
      "quand le dimanche Le Masters 1000 mètres mais pour la survivance\n",
      "qui frappent au cours de galaxie lenticulaire située dans les programmes communautaires de Shakespeare Illustré de la santé l époque le joyau local augmentation de crises de Thrushcross Grange en possédant plus sollicités à ce roman est pas parce que j ai plus fort accent régional\n",
      "Frances — un peu de France le CASG Paris en étant une auroroute complète leur modèle des Quatre-Vents traduit par les exécutifs communautaires et agricole abandonnant après l absence de 1995 Une première partie dans ses objectifs à 6 s ouvre les troupes de fichiers à la samain sainte au CE de 1883 et la Société des actions d un objectif de plantes à l angoisse la bière\n",
      "désertion du genre de 4500 kg Certains peuples chrétiens Jésus en pelotant la trique\n",
      "la moiteur des sanctions effectifs dissuasifs et qui précédaient les hérétiques Il se produisent \n",
      "Il est le modèle Jerry Hall Fundación ProAves in Marcin Szczuka Dir Concurrency specification and serve en théorie de San Fernando Selma es qui est composé de l\n"
     ]
    }
   ],
   "source": [
    "import import_ipynb\n",
    "import vues_generateur_article as vues"
   ]
  },
  {
   "cell_type": "markdown",
   "id": "2dabea1e",
   "metadata": {},
   "source": [
    "### ![./statics/wikipedia.png](./statics/wikipedia.png) Avoir un corpus de texte, extraction de wikipedia"
   ]
  },
  {
   "cell_type": "code",
   "execution_count": 2,
   "id": "8d87e650",
   "metadata": {},
   "outputs": [
    {
     "data": {
      "application/vnd.jupyter.widget-view+json": {
       "model_id": "c14e98f29e3d43b2b35cb51bf792e7ab",
       "version_major": 2,
       "version_minor": 0
      },
      "text/plain": [
       "TwoByTwoLayout(children=(BoundedIntText(value=3, description=\"Combien d'articles voulez vous extraire ?\", layo…"
      ]
     },
     "metadata": {},
     "output_type": "display_data"
    },
    {
     "data": {
      "application/vnd.jupyter.widget-view+json": {
       "model_id": "16bdfe94a41b4e5d99387c33e669f4e6",
       "version_major": 2,
       "version_minor": 0
      },
      "text/plain": [
       "Button(description=\"Lancer l'extraction\", style=ButtonStyle())"
      ]
     },
     "metadata": {},
     "output_type": "display_data"
    },
    {
     "data": {
      "application/vnd.jupyter.widget-view+json": {
       "model_id": "ff3aebf1868c4ed689ee0046df5c6a44",
       "version_major": 2,
       "version_minor": 0
      },
      "text/plain": [
       "Output()"
      ]
     },
     "metadata": {},
     "output_type": "display_data"
    }
   ],
   "source": [
    "display(vues.grille2_2)\n",
    "display(vues.button, vues.output)"
   ]
  }
 ],
 "metadata": {
  "kernelspec": {
   "display_name": "Python 3 (ipykernel)",
   "language": "python",
   "name": "python3"
  },
  "language_info": {
   "codemirror_mode": {
    "name": "ipython",
    "version": 3
   },
   "file_extension": ".py",
   "mimetype": "text/x-python",
   "name": "python",
   "nbconvert_exporter": "python",
   "pygments_lexer": "ipython3",
   "version": "3.11.4"
  }
 },
 "nbformat": 4,
 "nbformat_minor": 5
}
