{
 "cells": [
  {
   "cell_type": "markdown",
   "id": "d37077d4",
   "metadata": {},
   "source": [
    "# Le générateur en mode graphique\n",
    "## Controleur du générateur (terme technique)"
   ]
  },
  {
   "cell_type": "markdown",
   "id": "7d03e27c",
   "metadata": {},
   "source": [
    "- Autair : Silanoc\n",
    "- octobre 2023\n",
    "- version : 2.2"
   ]
  },
  {
   "cell_type": "code",
   "execution_count": null,
   "id": "e2ffdf71",
   "metadata": {},
   "outputs": [],
   "source": [
    "import import_ipynb\n",
    "import vues_generateur_article as vues"
   ]
  },
  {
   "cell_type": "markdown",
   "id": "8a1b2130",
   "metadata": {},
   "source": [
    "### ![./statics/wikipedia.png](./statics/wikipedia.png) Avoir un corpus de texte, extraction de wikipedia"
   ]
  },
  {
   "cell_type": "code",
   "execution_count": null,
   "id": "a0de2ce3",
   "metadata": {},
   "outputs": [],
   "source": [
    "display(vues.grille2_2)\n",
    "display(vues.button, vues.output)"
   ]
  },
  {
   "cell_type": "markdown",
   "id": "b40331ba",
   "metadata": {},
   "source": [
    "## Générer article"
   ]
  },
  {
   "cell_type": "code",
   "execution_count": 8,
   "id": "56b98278",
   "metadata": {},
   "outputs": [
    {
     "data": {
      "application/vnd.jupyter.widget-view+json": {
       "model_id": "c625eefbbe2443f695ef35e1fd07386a",
       "version_major": 2,
       "version_minor": 0
      },
      "text/plain": [
       "BoundedIntText(value=250, description=\"Combien de mot l'article doit-il contenir ?\", max=1000, min=50, style=D…"
      ]
     },
     "metadata": {},
     "output_type": "display_data"
    },
    {
     "data": {
      "application/vnd.jupyter.widget-view+json": {
       "model_id": "39425ddfc3904ecbb48195e2f117f24c",
       "version_major": 2,
       "version_minor": 0
      },
      "text/plain": [
       "Select(description=\"Choix du dossier où des textes d'entrée:\", index=1, layout=Layout(height='100px', width='1…"
      ]
     },
     "metadata": {},
     "output_type": "display_data"
    },
    {
     "data": {
      "application/vnd.jupyter.widget-view+json": {
       "model_id": "1778e58afbe14007b0a425b58fa7a22b",
       "version_major": 2,
       "version_minor": 0
      },
      "text/plain": [
       "Button(description='Lancer la rédaction', style=ButtonStyle())"
      ]
     },
     "metadata": {},
     "output_type": "display_data"
    },
    {
     "data": {
      "application/vnd.jupyter.widget-view+json": {
       "model_id": "e5678d21e2e84745b7e4c32231381289",
       "version_major": 2,
       "version_minor": 0
      },
      "text/plain": [
       "Output(outputs=({'output_type': 'stream', 'text': 'Rédaction en cours.\\nsimilaire se situe entre les actions p…"
      ]
     },
     "metadata": {},
     "output_type": "display_data"
    }
   ],
   "source": [
    "display(vues.choix_taille_article)\n",
    "display(vues.choix_repertoire)\n",
    "\n",
    "display(vues.button_generer_article, vues.output_generer_article)"
   ]
  },
  {
   "cell_type": "code",
   "execution_count": null,
   "id": "c702983c",
   "metadata": {},
   "outputs": [],
   "source": []
  },
  {
   "cell_type": "code",
   "execution_count": 7,
   "id": "b61d9f92",
   "metadata": {},
   "outputs": [
    {
     "data": {
      "application/vnd.jupyter.widget-view+json": {
       "model_id": "42736f4fcf414a99ba9ffddcdc644eb1",
       "version_major": 2,
       "version_minor": 0
      },
      "text/plain": [
       "Button(description='créer fichier', style=ButtonStyle())"
      ]
     },
     "metadata": {},
     "output_type": "display_data"
    },
    {
     "data": {
      "application/vnd.jupyter.widget-view+json": {
       "model_id": "26609bcc906643aaa4daa5265665d156",
       "version_major": 2,
       "version_minor": 0
      },
      "text/plain": [
       "Output(outputs=({'output_type': 'stream', 'text': 'fichier créé\\n', 'name': 'stdout'},))"
      ]
     },
     "metadata": {},
     "output_type": "display_data"
    }
   ],
   "source": [
    "display(vues.button_creer_fichier_article, vues.output_creer_fichier_article)"
   ]
  },
  {
   "cell_type": "code",
   "execution_count": null,
   "id": "dee8d771",
   "metadata": {},
   "outputs": [],
   "source": []
  }
 ],
 "metadata": {
  "kernelspec": {
   "display_name": "Python 3 (ipykernel)",
   "language": "python",
   "name": "python3"
  },
  "language_info": {
   "codemirror_mode": {
    "name": "ipython",
    "version": 3
   },
   "file_extension": ".py",
   "mimetype": "text/x-python",
   "name": "python",
   "nbconvert_exporter": "python",
   "pygments_lexer": "ipython3",
   "version": "3.11.4"
  }
 },
 "nbformat": 4,
 "nbformat_minor": 5
}
