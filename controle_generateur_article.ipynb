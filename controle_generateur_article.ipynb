{
 "cells": [
  {
   "cell_type": "markdown",
   "id": "d37077d4",
   "metadata": {},
   "source": [
    "# Le générateur en mode graphique\n",
    "## Controleur du générateur (terme technique)"
   ]
  },
  {
   "cell_type": "markdown",
   "id": "40594e16",
   "metadata": {},
   "source": [
    "- Autair : Silanoc\n",
    "- octobre 2023\n",
    "- version : 2.2"
   ]
  },
  {
   "cell_type": "markdown",
   "id": "add5e546",
   "metadata": {},
   "source": [
    "Il s'agit d'un programme qui génére des articles de façon aléatoire.\n",
    "\n",
    "Pour cela, il analyse, dans des textes en entrée, la fréquence des mots qui se suivent. Pour l'entrainer, les textes seront issus de la wikipedia francophone.\n",
    "\n",
    "En sortie un texte aléatoire sera proposé en fonction de ces fréquences.\n"
   ]
  },
  {
   "cell_type": "markdown",
   "id": "7bad9510",
   "metadata": {},
   "source": [
    "Il faut exécuter tout le notebook, puis utiliser l'interface pour effectuer les actions voulues."
   ]
  },
  {
   "cell_type": "code",
   "execution_count": 3,
   "id": "e2ffdf71",
   "metadata": {},
   "outputs": [],
   "source": [
    "import import_ipynb\n",
    "import vues_generateur_article as vues"
   ]
  },
  {
   "cell_type": "markdown",
   "id": "e8ddbf6a",
   "metadata": {},
   "source": [
    "## Avoir un corpus de texte\n",
    "### Ajout manuel\n",
    "\n",
    "On peut mettre en entrée des fichiers .txt directement dans le dossier qui servira de sources plus tard \"vrai_texte\" (par défaut). Le chemin sera à mettre dans la varible \"ou_sont_les_sources\" de la partie \"Enfin, générer notre article\"\n"
   ]
  },
  {
   "cell_type": "markdown",
   "id": "64407414",
   "metadata": {},
   "source": [
    "### Avoir un corpus de texte, extraction de wikipedia"
   ]
  },
  {
   "cell_type": "markdown",
   "id": "457b6d40",
   "metadata": {},
   "source": [
    "![./statics/wikipedia.png](./statics/wikipedia.png)\n",
    "\n",
    "Il s'agit de sélectionner des articles de la version franophone de Wikipedia (par défaut) et d'en extraire le texte sans la mise en forme."
   ]
  },
  {
   "cell_type": "code",
   "execution_count": 4,
   "id": "a5ddc38c",
   "metadata": {},
   "outputs": [
    {
     "data": {
      "application/vnd.jupyter.widget-view+json": {
       "model_id": "680dd9d1dd2645dfaffa6a9176bb1614",
       "version_major": 2,
       "version_minor": 0
      },
      "text/plain": [
       "TwoByTwoLayout(children=(BoundedIntText(value=3, description=\"Combien d'articles voulez vous extraire ?\", layo…"
      ]
     },
     "metadata": {},
     "output_type": "display_data"
    },
    {
     "data": {
      "application/vnd.jupyter.widget-view+json": {
       "model_id": "ae48743ebde84d05ad579d42e8072470",
       "version_major": 2,
       "version_minor": 0
      },
      "text/plain": [
       "Button(description=\"Lancer l'extraction\", style=ButtonStyle())"
      ]
     },
     "metadata": {},
     "output_type": "display_data"
    },
    {
     "data": {
      "application/vnd.jupyter.widget-view+json": {
       "model_id": "f0c93bb5314c4ac6b35144086c40cc41",
       "version_major": 2,
       "version_minor": 0
      },
      "text/plain": [
       "Output()"
      ]
     },
     "metadata": {},
     "output_type": "display_data"
    }
   ],
   "source": [
    "display(vues.grille2_2)\n",
    "display(vues.button, vues.output)"
   ]
  },
  {
   "cell_type": "markdown",
   "id": "522abc54",
   "metadata": {},
   "source": [
    "## Le dictionnaire de référence"
   ]
  },
  {
   "cell_type": "markdown",
   "id": "6a609f5c",
   "metadata": {},
   "source": [
    "### Créer un dictionnaire"
   ]
  },
  {
   "cell_type": "markdown",
   "id": "f74e522b",
   "metadata": {},
   "source": [
    "Pour générer un article il faut d'abord chosir les fichiers sources. \n",
    "\n",
    "Une fois le dossier sélectionner, le programme va analyser pour chaque mot la féquence du mot qui le suit, et mettre tout cela dans un dictionnaire de travaille."
   ]
  },
  {
   "cell_type": "code",
   "execution_count": 6,
   "id": "2907bb07",
   "metadata": {},
   "outputs": [
    {
     "data": {
      "application/vnd.jupyter.widget-view+json": {
       "model_id": "aa8bd53e8258468f9e8593501de79cb7",
       "version_major": 2,
       "version_minor": 0
      },
      "text/plain": [
       "Select(description=\"Choix du dossier où des textes d'entrée:\", layout=Layout(height='100px', width='100%'), op…"
      ]
     },
     "metadata": {},
     "output_type": "display_data"
    },
    {
     "data": {
      "application/vnd.jupyter.widget-view+json": {
       "model_id": "e5e452e02b564113b0d1a372a21ef6f2",
       "version_major": 2,
       "version_minor": 0
      },
      "text/plain": [
       "Button(description='Créer un dictionnaire', style=ButtonStyle())"
      ]
     },
     "metadata": {},
     "output_type": "display_data"
    },
    {
     "data": {
      "application/vnd.jupyter.widget-view+json": {
       "model_id": "7d4573e0d91a4b8fa4aac5c957b561ea",
       "version_major": 2,
       "version_minor": 0
      },
      "text/plain": [
       "Output()"
      ]
     },
     "metadata": {},
     "output_type": "display_data"
    }
   ],
   "source": [
    "display(vues.choix_repertoire_pour_lire)\n",
    "\n",
    "display(vues.button_creer_dico, vues.output_creer_dico)"
   ]
  },
  {
   "cell_type": "markdown",
   "id": "88cf01d5",
   "metadata": {},
   "source": [
    "## Générer article"
   ]
  },
  {
   "cell_type": "markdown",
   "id": "ca852b0d",
   "metadata": {},
   "source": [
    "Il n'y a qu'à choisir la taille de l'article souhaiter, et de demander sa rédaction."
   ]
  },
  {
   "cell_type": "code",
   "execution_count": 7,
   "id": "7c2c92b5",
   "metadata": {},
   "outputs": [
    {
     "data": {
      "application/vnd.jupyter.widget-view+json": {
       "model_id": "d39c803302c2442fbb3b6d640a6b7880",
       "version_major": 2,
       "version_minor": 0
      },
      "text/plain": [
       "BoundedIntText(value=250, description=\"Combien de mot l'article doit-il contenir ?\", max=1000, min=50, style=D…"
      ]
     },
     "metadata": {},
     "output_type": "display_data"
    },
    {
     "data": {
      "application/vnd.jupyter.widget-view+json": {
       "model_id": "279360c4e4f04f5d8593e28d339eb244",
       "version_major": 2,
       "version_minor": 0
      },
      "text/plain": [
       "Button(description='Lancer la rédaction', style=ButtonStyle())"
      ]
     },
     "metadata": {},
     "output_type": "display_data"
    },
    {
     "data": {
      "application/vnd.jupyter.widget-view+json": {
       "model_id": "998b5cae4e6340fcb4a9b41e956b1805",
       "version_major": 2,
       "version_minor": 0
      },
      "text/plain": [
       "Output()"
      ]
     },
     "metadata": {},
     "output_type": "display_data"
    }
   ],
   "source": [
    "display(vues.choix_taille_article)\n",
    "\n",
    "display(vues.button_generer_article, vues.output_generer_article)"
   ]
  },
  {
   "cell_type": "markdown",
   "id": "aeecd8e7",
   "metadata": {},
   "source": [
    "## Sauver l'article"
   ]
  },
  {
   "cell_type": "markdown",
   "id": "2a6a87a2",
   "metadata": {},
   "source": [
    "L'article peut être sauver dans le dossier texte_genere. Son nom correspond à l'horodatage yyyy-mm-dd-hh-mm-miliseconde"
   ]
  },
  {
   "cell_type": "code",
   "execution_count": 8,
   "id": "55ec06ae",
   "metadata": {},
   "outputs": [
    {
     "data": {
      "application/vnd.jupyter.widget-view+json": {
       "model_id": "e66c43f65b2443c2b8be005bf5d269e7",
       "version_major": 2,
       "version_minor": 0
      },
      "text/plain": [
       "Button(description=\"Sauver l'article dans un fichier\", style=ButtonStyle())"
      ]
     },
     "metadata": {},
     "output_type": "display_data"
    },
    {
     "data": {
      "application/vnd.jupyter.widget-view+json": {
       "model_id": "7cb8f5e412ef4dafa5c86055d4f608d7",
       "version_major": 2,
       "version_minor": 0
      },
      "text/plain": [
       "Output()"
      ]
     },
     "metadata": {},
     "output_type": "display_data"
    }
   ],
   "source": [
    "display(vues.button_creer_fichier_article, vues.output_creer_fichier_article)"
   ]
  },
  {
   "cell_type": "code",
   "execution_count": null,
   "id": "006d1f59",
   "metadata": {},
   "outputs": [],
   "source": []
  }
 ],
 "metadata": {
  "hide_input": false,
  "kernelspec": {
   "display_name": "Python 3 (ipykernel)",
   "language": "python",
   "name": "python3"
  },
  "language_info": {
   "codemirror_mode": {
    "name": "ipython",
    "version": 3
   },
   "file_extension": ".py",
   "mimetype": "text/x-python",
   "name": "python",
   "nbconvert_exporter": "python",
   "pygments_lexer": "ipython3",
   "version": "3.11.4"
  },
  "toc": {
   "base_numbering": 1,
   "nav_menu": {},
   "number_sections": true,
   "sideBar": true,
   "skip_h1_title": false,
   "title_cell": "Table of Contents",
   "title_sidebar": "Contents",
   "toc_cell": false,
   "toc_position": {},
   "toc_section_display": true,
   "toc_window_display": true
  }
 },
 "nbformat": 4,
 "nbformat_minor": 5
}
