{
 "cells": [
  {
   "cell_type": "markdown",
   "id": "d37077d4",
   "metadata": {},
   "source": [
    "# Le générateur en mode graphique\n",
    "## Controleur du générateur (terme technique)"
   ]
  },
  {
   "cell_type": "markdown",
   "id": "40594e16",
   "metadata": {},
   "source": [
    "- Autair : Silanoc\n",
    "- octobre 2023\n",
    "- version : 2.2"
   ]
  },
  {
   "cell_type": "code",
   "execution_count": 1,
   "id": "e2ffdf71",
   "metadata": {},
   "outputs": [
    {
     "name": "stdout",
     "output_type": "stream",
     "text": [
      "importing Jupyter notebook from vues_generateur_article.ipynb\n",
      "importing Jupyter notebook from generateur_article.ipynb\n",
      "Article Villers-sous-Prény ajouté\n",
      "Article Takako Kunigoshi ajouté\n",
      "parano\n",
      "je ne pas indifférent\n",
      "j débouche sur les tons\n",
      " Dessin en marge du Brésil et en 2004 voit le premier paragraphe que le circuit ATP et son passé & d Aragon Paris en service de nos yeux recouverts de douze jours environ\n",
      "que je t aime tant qu un groupe faisait partie de but était impliquée dans l impression que ces créatures vivantes ou docteur Girardin qui les destroyers au pouvoir en bois et bat par une méthode actuelle 1950 \n",
      "1914\n",
      "Football Athletic Bilbao Saragosse remporte devant un destroyer mène l Ouest Les régences de personnages\n",
      "= Films \n",
      "2006 Q-Theatre Variato Delectat\n",
      "2007 Sanaton sopimus\n",
      "2008 Lemmenleikit\n",
      "2008 Suojelijat\n",
      "2009 Ihmebantu\n",
      "2009 Älä ruoki lamaa\n",
      "2012 Hellfjord Riina\n",
      "2013 Mob City MarathonEn 1979 En 1269 l amour à cette période fut confié mon porte-manteau\n",
      "oh bloody man \n",
      "\n",
      "hé toi ne doit revêtir un croisement sur ses grotesques erreurs\n",
      "au boss cannibale fait bander les jambes des événements par Derf Backderf lauréat du 19 novembre 1862 - 28 novembre 2018\n",
      " Notes et contiendrait en Basse-Californie et rendu par deux îles du Wide-Field Infrared Survey Explorer WISE un fichier conserve le pays Edgar et administrative départementale 367 % la couronne a imposé une activité d´échange culturel français et à voir la validité du trottoir devant le circuit de contrat de cruauté & d Europe s efface devant moi au format epub sur création d un peu de sa faction au petit matin\n",
      "celui des méthodes de La Cropte de côté la 35e édition 10e de mejico \n",
      "borracho como no man \n",
      "\n",
      "hé toi le plus ramer pour\n"
     ]
    }
   ],
   "source": [
    "import import_ipynb\n",
    "import vues_generateur_article as vues"
   ]
  },
  {
   "cell_type": "markdown",
   "id": "64407414",
   "metadata": {},
   "source": [
    "### ![./statics/wikipedia.png](./statics/wikipedia.png) Avoir un corpus de texte, extraction de wikipedia"
   ]
  },
  {
   "cell_type": "code",
   "execution_count": 2,
   "id": "a5ddc38c",
   "metadata": {},
   "outputs": [
    {
     "data": {
      "application/vnd.jupyter.widget-view+json": {
       "model_id": "49bc4af0022648389be6af43c555506b",
       "version_major": 2,
       "version_minor": 0
      },
      "text/plain": [
       "TwoByTwoLayout(children=(BoundedIntText(value=3, description=\"Combien d'articles voulez vous extraire ?\", layo…"
      ]
     },
     "metadata": {},
     "output_type": "display_data"
    },
    {
     "data": {
      "application/vnd.jupyter.widget-view+json": {
       "model_id": "d9b96b0540be487fa09c848115ce84dd",
       "version_major": 2,
       "version_minor": 0
      },
      "text/plain": [
       "Button(description=\"Lancer l'extraction\", style=ButtonStyle())"
      ]
     },
     "metadata": {},
     "output_type": "display_data"
    },
    {
     "data": {
      "application/vnd.jupyter.widget-view+json": {
       "model_id": "3f8c57aa62d54660954b19d9546f6d58",
       "version_major": 2,
       "version_minor": 0
      },
      "text/plain": [
       "Output()"
      ]
     },
     "metadata": {},
     "output_type": "display_data"
    }
   ],
   "source": [
    "display(vues.grille2_2)\n",
    "display(vues.button, vues.output)"
   ]
  },
  {
   "cell_type": "markdown",
   "id": "88cf01d5",
   "metadata": {},
   "source": [
    "## Générer article"
   ]
  },
  {
   "cell_type": "code",
   "execution_count": 3,
   "id": "7c2c92b5",
   "metadata": {},
   "outputs": [
    {
     "data": {
      "application/vnd.jupyter.widget-view+json": {
       "model_id": "a5bda841b9e64f359021fcc765549dbb",
       "version_major": 2,
       "version_minor": 0
      },
      "text/plain": [
       "BoundedIntText(value=250, description=\"Combien de mot l'article doit-il contenir ?\", max=1000, min=50, style=D…"
      ]
     },
     "metadata": {},
     "output_type": "display_data"
    },
    {
     "data": {
      "application/vnd.jupyter.widget-view+json": {
       "model_id": "adc0d14178b840a0969ae0fd73e478d9",
       "version_major": 2,
       "version_minor": 0
      },
      "text/plain": [
       "Select(description=\"Choix du dossier où des textes d'entrée:\", layout=Layout(height='100px', width='100%'), op…"
      ]
     },
     "metadata": {},
     "output_type": "display_data"
    },
    {
     "data": {
      "application/vnd.jupyter.widget-view+json": {
       "model_id": "d64e029df5d943a1b420a72ff55f2697",
       "version_major": 2,
       "version_minor": 0
      },
      "text/plain": [
       "Button(description='Lancer la rédaction', style=ButtonStyle())"
      ]
     },
     "metadata": {},
     "output_type": "display_data"
    },
    {
     "data": {
      "application/vnd.jupyter.widget-view+json": {
       "model_id": "22cbdc08013540aaaa69526125cbf883",
       "version_major": 2,
       "version_minor": 0
      },
      "text/plain": [
       "Output()"
      ]
     },
     "metadata": {},
     "output_type": "display_data"
    }
   ],
   "source": [
    "display(vues.choix_taille_article)\n",
    "display(vues.choix_repertoire_pour_lire)\n",
    "\n",
    "display(vues.button_generer_article, vues.output_generer_article)"
   ]
  },
  {
   "cell_type": "markdown",
   "id": "aeecd8e7",
   "metadata": {},
   "source": [
    "## Sauver l'article"
   ]
  },
  {
   "cell_type": "code",
   "execution_count": 4,
   "id": "55ec06ae",
   "metadata": {},
   "outputs": [
    {
     "data": {
      "application/vnd.jupyter.widget-view+json": {
       "model_id": "7412ffb5fa344db592a841628bf53cc6",
       "version_major": 2,
       "version_minor": 0
      },
      "text/plain": [
       "Button(description=\"Sauver l'article dans un fichier\", style=ButtonStyle())"
      ]
     },
     "metadata": {},
     "output_type": "display_data"
    },
    {
     "data": {
      "application/vnd.jupyter.widget-view+json": {
       "model_id": "07b16f131e07468fa9beba728c7a845c",
       "version_major": 2,
       "version_minor": 0
      },
      "text/plain": [
       "Output()"
      ]
     },
     "metadata": {},
     "output_type": "display_data"
    }
   ],
   "source": [
    "display(vues.button_creer_fichier_article, vues.output_creer_fichier_article)"
   ]
  },
  {
   "cell_type": "code",
   "execution_count": null,
   "id": "006d1f59",
   "metadata": {},
   "outputs": [],
   "source": []
  }
 ],
 "metadata": {
  "kernelspec": {
   "display_name": "Python 3 (ipykernel)",
   "language": "python",
   "name": "python3"
  },
  "language_info": {
   "codemirror_mode": {
    "name": "ipython",
    "version": 3
   },
   "file_extension": ".py",
   "mimetype": "text/x-python",
   "name": "python",
   "nbconvert_exporter": "python",
   "pygments_lexer": "ipython3",
   "version": "3.11.4"
  }
 },
 "nbformat": 4,
 "nbformat_minor": 5
}
