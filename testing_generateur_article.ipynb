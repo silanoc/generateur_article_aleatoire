{
 "cells": [
  {
   "cell_type": "markdown",
   "id": "146bd6a0",
   "metadata": {},
   "source": [
    "# Test du code"
   ]
  },
  {
   "cell_type": "code",
   "execution_count": 2,
   "id": "a1ef2978",
   "metadata": {},
   "outputs": [],
   "source": [
    "import import_ipynb\n",
    "import generateur_article as modele"
   ]
  },
  {
   "cell_type": "code",
   "execution_count": 4,
   "id": "589a20b8",
   "metadata": {},
   "outputs": [],
   "source": [
    "import pytest\n",
    "from unittest.mock import Mock, patch "
   ]
  },
  {
   "cell_type": "markdown",
   "id": "a8177880",
   "metadata": {},
   "source": [
    "le 2023-11-01 : transfert de tous les codes, comme il n'y a pas de ré-écriture des imports, ne peux pas fonctionner."
   ]
  },
  {
   "cell_type": "markdown",
   "id": "65a76094",
   "metadata": {},
   "source": [
    "## Tester les méthodes de la classe Article_source"
   ]
  },
  {
   "cell_type": "code",
   "execution_count": 5,
   "id": "65874b81",
   "metadata": {},
   "outputs": [],
   "source": [
    "class Test_modele_analyse():\n",
    "    \n",
    "    def test_retirer_ponctuation(self):\n",
    "        chaine = \"Le, petit chat d'Hercule est mort !\"\n",
    "        textdebase = Article_source(chaine)\n",
    "        retirer = textdebase.retirer_ponctuation(chaine)\n",
    "        assert retirer == \"Le petit chat d Hercule est mort \"\n",
    "        \n",
    "    def test_liste_et_compte_mots(self):\n",
    "        chaine = \"le petit chat de béatrice est sur le petit mur du jardin de Yves\"\n",
    "        textdebase = Article_source(chaine)\n",
    "        list_mot = textdebase.liste_et_compte_mots(chaine)[0]\n",
    "        dico_mot = textdebase.liste_et_compte_mots(chaine)[1]\n",
    "        assert list_mot == ['le','petit','chat','de','béatrice','est','sur','le','petit','mur','du','jardin','de','Yves']\n",
    "        assert dico_mot == {'le':2,'petit':2,'chat':1,'de':2,'béatrice':1,'est':1,'sur':1,'mur':1,'du':1,'jardin':1,'Yves':1}\n",
    "     \n",
    "    \"\"\"  \n",
    "    #code pour tester une erreur dans jupyter \n",
    "    def test_cherche_binomes_mots(self):\n",
    "        chaine = \"le petit chat de béatrice est sur le petit mur du jardin de Yves\"\n",
    "        textdebase = Article_source(chaine)\n",
    "        dico = textdebase.cherche_binomes_mots(chaine)\n",
    "        assert dico == {' le': [' petit', ' petit'], ' petit':[' chat', ' mur'], ' chat': [' de'], ' de': [' béatrice', ' Yves'], ' béatrice': [' est'],\n",
    "                        ' est': [' sur'], ' sur': [' le'], ' mur': [' du'], ' du': [' jardin'], ' jardin': [' de'], ' Yves': []}\n",
    "    \"\"\" "
   ]
  },
  {
   "cell_type": "code",
   "execution_count": 6,
   "id": "7dfc624a",
   "metadata": {},
   "outputs": [
    {
     "ename": "NameError",
     "evalue": "name 'Article_source' is not defined",
     "output_type": "error",
     "traceback": [
      "\u001b[0;31m---------------------------------------------------------------------------\u001b[0m",
      "\u001b[0;31mNameError\u001b[0m                                 Traceback (most recent call last)",
      "Cell \u001b[0;32mIn[6], line 2\u001b[0m\n\u001b[1;32m      1\u001b[0m testeur \u001b[38;5;241m=\u001b[39m Test_modele_analyse()\n\u001b[0;32m----> 2\u001b[0m testeur\u001b[38;5;241m.\u001b[39mtest_retirer_ponctuation()\n\u001b[1;32m      3\u001b[0m testeur\u001b[38;5;241m.\u001b[39mtest_liste_et_compte_mots()\n",
      "Cell \u001b[0;32mIn[5], line 5\u001b[0m, in \u001b[0;36mTest_modele_analyse.test_retirer_ponctuation\u001b[0;34m(self)\u001b[0m\n\u001b[1;32m      3\u001b[0m \u001b[38;5;28;01mdef\u001b[39;00m \u001b[38;5;21mtest_retirer_ponctuation\u001b[39m(\u001b[38;5;28mself\u001b[39m):\n\u001b[1;32m      4\u001b[0m     chaine \u001b[38;5;241m=\u001b[39m \u001b[38;5;124m\"\u001b[39m\u001b[38;5;124mLe, petit chat d\u001b[39m\u001b[38;5;124m'\u001b[39m\u001b[38;5;124mHercule est mort !\u001b[39m\u001b[38;5;124m\"\u001b[39m\n\u001b[0;32m----> 5\u001b[0m     textdebase \u001b[38;5;241m=\u001b[39m Article_source(chaine)\n\u001b[1;32m      6\u001b[0m     retirer \u001b[38;5;241m=\u001b[39m textdebase\u001b[38;5;241m.\u001b[39mretirer_ponctuation(chaine)\n\u001b[1;32m      7\u001b[0m     \u001b[38;5;28;01massert\u001b[39;00m retirer \u001b[38;5;241m==\u001b[39m \u001b[38;5;124m\"\u001b[39m\u001b[38;5;124mLe petit chat d Hercule est mort \u001b[39m\u001b[38;5;124m\"\u001b[39m\n",
      "\u001b[0;31mNameError\u001b[0m: name 'Article_source' is not defined"
     ]
    }
   ],
   "source": [
    "testeur = Test_modele_analyse()\n",
    "testeur.test_retirer_ponctuation()\n",
    "testeur.test_liste_et_compte_mots()"
   ]
  },
  {
   "cell_type": "markdown",
   "id": "53e391a2",
   "metadata": {},
   "source": [
    "## Tester la class Article_au_hasard"
   ]
  },
  {
   "cell_type": "code",
   "execution_count": null,
   "id": "10740937",
   "metadata": {},
   "outputs": [],
   "source": [
    "class Test_modele_generation():\n",
    "    \n",
    "    def test_choixmotpourcommencer(self, mocker):\n",
    "        dictionnaire = {' le': [' petit', ' petit'], ' petit':[' chat', ' mur'], ' chat': [' de'], ' de': [' béatrice', ' Yves'], ' béatrice': [' est'],\n",
    "                        ' est': [' sur'], ' sur': [' le'], ' mur': [' du'], ' du': [' jardin'], ' jardin': [' de'], ' Yves': []}\n",
    "        mocker.patch('random.randint', return_value=1)\n",
    "        generation = Article_au_hasard(dictionnaire)\n",
    "        generation.mot = generation.choixmotpourcommencer(dictionnaire)\n",
    "        assert generation.mot == \"petit\""
   ]
  },
  {
   "cell_type": "code",
   "execution_count": null,
   "id": "e66f144d",
   "metadata": {},
   "outputs": [],
   "source": [
    "testeur_article = Test_modele_generation()\n",
    "testeur_article.test_choixmotpourcommencer(None)"
   ]
  },
  {
   "cell_type": "markdown",
   "id": "b533b8b8",
   "metadata": {},
   "source": [
    "### tester l'addition de dictionnaire"
   ]
  },
  {
   "cell_type": "code",
   "execution_count": null,
   "id": "9e89901a",
   "metadata": {},
   "outputs": [],
   "source": [
    "def test_addition_dico():\n",
    "    dico1 = {'a' : ['le', 'petit'], 'b' : ['chat', 'de']}\n",
    "    dico2 = {'b' : ['de', 'yves'], 'c' : ['dans', 'jardin']}\n",
    "    dico3 = addition_dico(dico1, dico2)\n",
    "    assert dico3 == {'a' : ['le', 'petit'], 'b' : ['chat', 'de', 'de', 'yves'], 'c' : ['dans', 'jardin']}\n",
    "    \n",
    "test_addition_dico()"
   ]
  }
 ],
 "metadata": {
  "kernelspec": {
   "display_name": "Python 3 (ipykernel)",
   "language": "python",
   "name": "python3"
  },
  "language_info": {
   "codemirror_mode": {
    "name": "ipython",
    "version": 3
   },
   "file_extension": ".py",
   "mimetype": "text/x-python",
   "name": "python",
   "nbconvert_exporter": "python",
   "pygments_lexer": "ipython3",
   "version": "3.11.4"
  }
 },
 "nbformat": 4,
 "nbformat_minor": 5
}
