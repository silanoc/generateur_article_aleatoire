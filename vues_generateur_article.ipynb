{
 "cells": [
  {
   "cell_type": "markdown",
   "id": "6bf611d1",
   "metadata": {},
   "source": [
    "# Vues pour le générateur d'article"
   ]
  },
  {
   "cell_type": "markdown",
   "id": "d7fb83ce",
   "metadata": {},
   "source": [
    "- Autair : Silanoc\n",
    "- octobre 2023\n",
    "- version : 2.2"
   ]
  },
  {
   "cell_type": "code",
   "execution_count": 1,
   "id": "4597db85",
   "metadata": {},
   "outputs": [
    {
     "name": "stdout",
     "output_type": "stream",
     "text": [
      "importing Jupyter notebook from generateur_article.ipynb\n",
      "Article Maurice Sidoine Storez ajouté\n",
      "Article 18e armée (Empire allemand) ajouté\n",
      "printemps\n",
      "& tournent dans leur chanson Lithium de leurs mains\n",
      "mais j taillais même article est de l harmonica chant\n",
      "1972 Roadwork de garage intime d écrivains latins ou actes et proviseur à la vaste hôtel paumé aux crimes contre lequel il démissionne le groupe sort de Bourbon-Siciles assuma la production sont tués et cinq iambes\n",
      " Le langage \n",
      "Plusieurs études récentes ont été repoussée sans son épouse d origine de vieilles qui suivait des effets de vivres et social faible niveau a été introduit dans le Paysan de prison dénonce les informations conservées trois ans lorsqu il est une opposition en provenance de la région de 1958 et Takao Saitō\n",
      "Montage Akira Kurosawa d amour bis\n",
      "\n",
      "tu te salue \n",
      "héros de la Banque de l Allocation transitoire de l architecture et ses qualités du prince Gaétan de brevet aux brevets qui ne sera dissident\n",
      "dis-moi quel moment où la carte d usage\n",
      "ô sweet amanite phalloïde queen *ter*\n",
      "\n",
      "je suis l Office National Artillery TF tout en traînant ma fin\n",
      " j ai rien que la télévision Portail de livres pour le 19 décembre 2016 néanmoins débouté au Stade Molson\n",
      " Portail de 260 x 300 vélin d un grand nombre d autres attractions touristiques sont tués d un organisme public le scribe n est le bourgeonnement chez le Moyen Chiny se sert à présentExtrait de vamp-araignée\n",
      "& l aspect technique nommée Sécurité de la braise de 22h43 2ème partie\n",
      "tout corps féminin\n",
      "Le compositeur Béla Bartók ont la bioéthique la recherche sur ta zone où ça devient prince Gaétan de vivre\n",
      "\n",
      "mon pauvre\n"
     ]
    }
   ],
   "source": [
    "import import_ipynb\n",
    "import generateur_article as modele\n",
    "\n",
    "import ipywidgets as widgets\n",
    "from ipywidgets import TwoByTwoLayout, Layout\n",
    "from IPython.display import display"
   ]
  },
  {
   "cell_type": "markdown",
   "id": "139a9209",
   "metadata": {},
   "source": [
    "## Widgets pour extration des articles de WP "
   ]
  },
  {
   "cell_type": "markdown",
   "id": "3820d61a",
   "metadata": {},
   "source": [
    "- choisir un nombre d'articles à extraire\n",
    "- choisir la langue\n",
    "- choisir le répertoire pour écrire\n",
    "- bouton pour récupérer les valeurs et faire l'action"
   ]
  },
  {
   "cell_type": "code",
   "execution_count": 2,
   "id": "9f1d23f1",
   "metadata": {},
   "outputs": [],
   "source": [
    "# pour afficher les descriptions correctement\n",
    "style = {'description_width': 'initial'}\n",
    "\n",
    "# Les paramètres\n",
    "choix_nb_article = widgets.BoundedIntText(\n",
    "    value = 3, \n",
    "    min = 2, max = 20, step = 1,\n",
    "    description = \"Combien d'articles voulez vous extraire ?\", style = style, \n",
    "    disabled = False,\n",
    "    continuous_update = False,\n",
    "    readout = True,\n",
    ")\n",
    "\n",
    "choix_langue = widgets.Select(\n",
    "    options = ['fr', 'en'],style = style,\n",
    "    value = 'fr',\n",
    "    rows = 2,\n",
    "    description = 'Version linguistique:',\n",
    "    disabled = False\n",
    ")\n",
    "\n",
    "choix_repertoire_pour_wp = widgets.Select(\n",
    "    options = modele.lister_les_sous_repertoire(),style = style, \n",
    "    rows = 5,\n",
    "    description = 'Choix du dossier :',\n",
    "    disabled = False\n",
    ")\n",
    "\n",
    "# Grille des parametres\n",
    "grille2_2 = TwoByTwoLayout(top_left = choix_nb_article,\n",
    "                bottom_left = choix_langue,\n",
    "                top_right = choix_repertoire_pour_wp,\n",
    ")"
   ]
  },
  {
   "cell_type": "code",
   "execution_count": 3,
   "id": "bdc46678",
   "metadata": {},
   "outputs": [],
   "source": [
    "# Bouton \n",
    "button = widgets.Button(description=\"Lancer l'extraction\")\n",
    "output = widgets.Output()\n",
    "\n",
    "def on_button_clicked(b):\n",
    "    with output:\n",
    "        print(\"Lancement en cours.\")\n",
    "        nombre_articles_a_extraire = choix_nb_article.value\n",
    "        langue = choix_langue.value\n",
    "        chemin_extraction = choix_repertoire_pour_wp.value\n",
    "\n",
    "        modele.extraction_wikipedienne(langue, chemin_extraction, nombre_articles_a_extraire)\n",
    "\n",
    "button.on_click(on_button_clicked)"
   ]
  },
  {
   "cell_type": "markdown",
   "id": "f2c85249",
   "metadata": {},
   "source": [
    "## Dictionnaires"
   ]
  },
  {
   "cell_type": "code",
   "execution_count": null,
   "id": "d6d67b0a",
   "metadata": {},
   "outputs": [],
   "source": [
    "## Pour générer un dictionnaire"
   ]
  },
  {
   "cell_type": "code",
   "execution_count": null,
   "id": "76ca57b2",
   "metadata": {},
   "outputs": [],
   "source": [
    "# pour afficher les descriptions correctement\n",
    "style = {'description_width': 'initial'}\n",
    "\n",
    "choix_repertoire_pour_lire = widgets.Select(\n",
    "    options = modele.lister_les_sous_repertoire(),style = style, \n",
    "    rows = 5,\n",
    "    description = \"Choix du dossier où des textes d'entrée:\",\n",
    "    disabled = False,\n",
    "    layout=Layout(width='100%', height='100px')\n",
    ")"
   ]
  },
  {
   "cell_type": "code",
   "execution_count": null,
   "id": "bf348d39",
   "metadata": {},
   "outputs": [],
   "source": [
    "# Bouton \n",
    "button_creer_dico = widgets.Button(description=\"Créer un dictionnaire\")\n",
    "output_creer_dico = widgets.Output()\n",
    "\n",
    "superdico_local = \"\"\n",
    "\n",
    "def on_button_clicked_creer_dico(b):\n",
    "    with output_creer_dico:\n",
    "        global superdico_local\n",
    "        print(\"création en cours.\")\n",
    "        # prendre les bonnes variables\n",
    "        ou_sont_les_sources = choix_repertoire_pour_lire.value\n",
    "        # refaire le dictionnaire\n",
    "        superdico_local = modele.analyser_dossier_et_faire_dico(ou_sont_les_sources)\n",
    "        print(\"Dictionnaire créé.\")\n",
    "\n",
    "button_creer_dico.on_click(on_button_clicked_creer_dico)"
   ]
  },
  {
   "cell_type": "markdown",
   "id": "20bbdea2",
   "metadata": {},
   "source": [
    "## Pour générer un article"
   ]
  },
  {
   "cell_type": "markdown",
   "id": "fbb32112",
   "metadata": {},
   "source": [
    "Le dictionnaire est celui par defaut au dessus \n",
    "- nombre de mot par article\n",
    "- bouton pour enchainer"
   ]
  },
  {
   "cell_type": "code",
   "execution_count": 4,
   "id": "3bd020c4",
   "metadata": {},
   "outputs": [],
   "source": [
    "# pour afficher les descriptions correctement\n",
    "style = {'description_width': 'initial'}\n",
    "\n",
    "# Les paramètres\n",
    "choix_taille_article = widgets.BoundedIntText(\n",
    "    value = 250, \n",
    "    min = 50, max = 1000, step = 1,\n",
    "    description = \"Combien de mot l'article doit-il contenir ?\", style = style, \n",
    "    disabled = False,\n",
    "    continuous_update = False,\n",
    "    readout = True,\n",
    ")\n",
    "\n"
   ]
  },
  {
   "cell_type": "code",
   "execution_count": 7,
   "id": "1c9fc535",
   "metadata": {},
   "outputs": [],
   "source": [
    "# Bouton \n",
    "button_generer_article = widgets.Button(description=\"Lancer la rédaction\")\n",
    "output_generer_article = widgets.Output()\n",
    "\n",
    "nouvel_article = \"\"\n",
    "\n",
    "def on_button_clicked_generer_article(b):\n",
    "    with output_generer_article:\n",
    "        global nouvel_article\n",
    "        print(\"Rédaction en cours.\")\n",
    "        # prendre les bonnes variables\n",
    "        nb_mot_article = choix_taille_article.value\n",
    "        # génération en elle meme\n",
    "        nouvel_article = modele.generation(superdico_local, nb_mot_article)\n",
    "        print(nouvel_article)\n",
    "\n",
    "button_generer_article.on_click(on_button_clicked_generer_article)\n"
   ]
  },
  {
   "cell_type": "markdown",
   "id": "2477a75f",
   "metadata": {},
   "source": [
    "## Sauver l'article dans un fichier"
   ]
  },
  {
   "cell_type": "code",
   "execution_count": 6,
   "id": "2a77cca6",
   "metadata": {},
   "outputs": [],
   "source": [
    "# Bouton \n",
    "button_creer_fichier_article = widgets.Button(description=\"Sauver l'article dans un fichier\")\n",
    "output_creer_fichier_article = widgets.Output()\n",
    "\n",
    "\n",
    "def on_button_clicked_creer_fichier_article(b):\n",
    "    with output_creer_fichier_article:\n",
    "        modele.avoir_un_fichier(nouvel_article)\n",
    "        print(\"fichier créé\")\n",
    "\n",
    "button_creer_fichier_article.on_click(on_button_clicked_creer_fichier_article)"
   ]
  },
  {
   "cell_type": "code",
   "execution_count": null,
   "id": "28b8132a",
   "metadata": {},
   "outputs": [],
   "source": []
  },
  {
   "cell_type": "code",
   "execution_count": null,
   "id": "1cc0cb06",
   "metadata": {},
   "outputs": [],
   "source": []
  }
 ],
 "metadata": {
  "kernelspec": {
   "display_name": "Python 3 (ipykernel)",
   "language": "python",
   "name": "python3"
  },
  "language_info": {
   "codemirror_mode": {
    "name": "ipython",
    "version": 3
   },
   "file_extension": ".py",
   "mimetype": "text/x-python",
   "name": "python",
   "nbconvert_exporter": "python",
   "pygments_lexer": "ipython3",
   "version": "3.11.4"
  }
 },
 "nbformat": 4,
 "nbformat_minor": 5
}
