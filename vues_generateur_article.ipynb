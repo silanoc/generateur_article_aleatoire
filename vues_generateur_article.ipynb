{
 "cells": [
  {
   "cell_type": "markdown",
   "id": "6bf611d1",
   "metadata": {},
   "source": [
    "# Vues pour le générateur d'article"
   ]
  },
  {
   "cell_type": "markdown",
   "id": "b54e5630",
   "metadata": {},
   "source": [
    "- Autair : Silanoc\n",
    "- octobre 2023\n",
    "- version : 2.2"
   ]
  },
  {
   "cell_type": "code",
   "execution_count": 2,
   "id": "4597db85",
   "metadata": {},
   "outputs": [
    {
     "name": "stdout",
     "output_type": "stream",
     "text": [
      "importing Jupyter notebook from generateur_article.ipynb\n",
      "Article Khold ajouté\n",
      "Article Elisa Biagini ajouté\n",
      "équipes soit anonymes soit leur chanson Ohio Was 322\n",
      "Phantasmagoria in Beaumont 2000\n",
      "The Essential Johnny enregistre en avions des champions d Hindley en esclaves provenant de hierro de progressiste rivale de cimetière le gentil petit barbare\n",
      "qui chantait pour sa nuit\n",
      "d un des huîtres sur la fin au nord et médaillée d enseignants la chapelle entourée de Londres dans sa surface\n",
      "Les eaux de la chasse et des académies des uppercuts olympiques\n",
      "qui m 1993 ISBN 9782919228157\n",
      "2017 Le groupe Aragon Œuvres \n",
      " Références \n",
      " Articles connexes et forestière le pianiste né le graveur Martin Paris SEDES 2007\n",
      " Articles connexes \n",
      "Fragmentation\n",
      "Compactage\n",
      "ext4 et Derek Gibson\n",
      "Sociétés de 25 et l errance\n",
      "& tu les ébionites aujourd hui dans la Constitution ou encore le géant dépérissant de putsch et des Savants dans la Coupe d épuration\n",
      "même l Union européenne mais laisse te faire d autres juges de sénatrice appelé Google Collections n a été sous la 1st East Suffolk en créant pour le front de l enivrement Nous lui vaut s Creed IV \n",
      "L administration de Provence coll Bibliothèque Gallimard 2001 Le Français de l objet la vie me dit Non père était David Niven Edgar Bourloton 1889-1891 [détail de ses vieux fauves\n",
      "& les Girondins de Tim DeLaughter Devant le courage\n",
      "de se ferme entre en Europe d Europe d élire les pays et hypothéquant tous les ouvrages remarquables de la Plaine en effet sont divisées en suivent l armée passant du Nigeria et son père lachaise pleurer sa vie c est pas de se qualifier Les divers aménagements de\n"
     ]
    }
   ],
   "source": [
    "import import_ipynb\n",
    "import generateur_article as modele\n",
    "\n",
    "import ipywidgets as widgets\n",
    "from ipywidgets import TwoByTwoLayout\n",
    "from IPython.display import display"
   ]
  },
  {
   "cell_type": "markdown",
   "id": "079dce1c",
   "metadata": {},
   "source": [
    "## Création de l'interface\n",
    "Il faut tout exécuter"
   ]
  },
  {
   "cell_type": "markdown",
   "id": "139a9209",
   "metadata": {},
   "source": [
    "### Pour faire l'extration de WP "
   ]
  },
  {
   "cell_type": "code",
   "execution_count": 3,
   "id": "9f1d23f1",
   "metadata": {},
   "outputs": [],
   "source": [
    "# pour afficher les descriptions correctement\n",
    "style = {'description_width': 'initial'}\n",
    "\n",
    "# Les paramètres\n",
    "choix_nb_article = widgets.BoundedIntText(\n",
    "    value = 3, \n",
    "    min = 2, max = 20, step = 1,\n",
    "    description = \"Combien d'articles voulez vous extraire ?\", style = style, \n",
    "    disabled = False,\n",
    "    continuous_update = False,\n",
    "    readout = True,\n",
    ")\n",
    "\n",
    "choix_langue = widgets.Select(\n",
    "    options = ['fr', 'en'],style = style,\n",
    "    value = 'fr',\n",
    "    rows = 2,\n",
    "    description = 'Version linguistique:',\n",
    "    disabled = False\n",
    ")\n",
    "\n",
    "choix_repertoire = widgets.Select(\n",
    "    options = modele.lister_les_sous_repertoire(),style = style, \n",
    "    rows = 5,\n",
    "    description = 'Choix du dossier :',\n",
    "    disabled = False\n",
    ")\n",
    "\n",
    "# Grille des parametres\n",
    "grille2_2 = TwoByTwoLayout(top_left = choix_nb_article,\n",
    "                bottom_left = choix_langue,\n",
    "                top_right = choix_repertoire,\n",
    ")"
   ]
  },
  {
   "cell_type": "code",
   "execution_count": 4,
   "id": "bdc46678",
   "metadata": {},
   "outputs": [],
   "source": [
    "# Bouton \n",
    "button = widgets.Button(description=\"Lancer l'extraction\")\n",
    "output = widgets.Output()\n",
    "\n",
    "def on_button_clicked(b):\n",
    "    with output:\n",
    "        print(\"Lancement en cours.\")\n",
    "        nombre_articles_a_extraire = choix_nb_article.value\n",
    "        langue = choix_langue.value\n",
    "        chemin_extraction = choix_repertoire.value\n",
    "\n",
    "        modele.extraction_wikipedienne(langue, chemin_extraction, nombre_articles_a_extraire)\n",
    "\n",
    "button.on_click(on_button_clicked)"
   ]
  },
  {
   "cell_type": "code",
   "execution_count": null,
   "id": "7ec21c3c",
   "metadata": {},
   "outputs": [],
   "source": []
  }
 ],
 "metadata": {
  "kernelspec": {
   "display_name": "Python 3 (ipykernel)",
   "language": "python",
   "name": "python3"
  },
  "language_info": {
   "codemirror_mode": {
    "name": "ipython",
    "version": 3
   },
   "file_extension": ".py",
   "mimetype": "text/x-python",
   "name": "python",
   "nbconvert_exporter": "python",
   "pygments_lexer": "ipython3",
   "version": "3.11.4"
  }
 },
 "nbformat": 4,
 "nbformat_minor": 5
}
