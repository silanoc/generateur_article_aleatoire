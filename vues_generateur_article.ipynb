{
 "cells": [
  {
   "cell_type": "markdown",
   "id": "6bf611d1",
   "metadata": {},
   "source": [
    "# Vues pour le générateur d'article"
   ]
  },
  {
   "cell_type": "code",
   "execution_count": null,
   "id": "39661062",
   "metadata": {},
   "outputs": [],
   "source": [
    "#!pip install ipywidgets"
   ]
  },
  {
   "cell_type": "code",
   "execution_count": 17,
   "id": "4597db85",
   "metadata": {},
   "outputs": [],
   "source": [
    "import import_ipynb\n",
    "import generateur_article as modele\n",
    "\n",
    "import ipywidgets as widgets\n",
    "from ipywidgets import TwoByTwoLayout\n",
    "from IPython.display import display"
   ]
  },
  {
   "cell_type": "markdown",
   "id": "f57b503e",
   "metadata": {},
   "source": [
    "## Création de l'interface\n",
    "Il faut tout exécuter"
   ]
  },
  {
   "cell_type": "markdown",
   "id": "1926f70a",
   "metadata": {},
   "source": [
    "### Pour faire l'extration de WP "
   ]
  },
  {
   "cell_type": "code",
   "execution_count": 18,
   "id": "9f1d23f1",
   "metadata": {},
   "outputs": [],
   "source": [
    "# pour voir les titre correctement\n",
    "style = {'description_width': 'initial'}\n",
    "\n",
    "# Les paramètres\n",
    "choix_nb_article = widgets.BoundedIntText(\n",
    "    value = 3, min = 2,max = 20, step = 1,\n",
    "    description = \"Combien d'articles voulez vous extraire ?\", style = style, \n",
    "    disabled = False,\n",
    "    continuous_update = False,\n",
    "    readout = True,\n",
    ")\n",
    "\n",
    "choix_langue = widgets.Select(\n",
    "    options = ['fr', 'en'],style = style,\n",
    "    value = 'fr',\n",
    "    rows = 2,\n",
    "    description = 'version linguistique:',\n",
    "    disabled = False\n",
    ")\n",
    "\n",
    "choix_repertoire = widgets.Select(\n",
    "    options = modele.lister_les_sous_repertoire(),style = style, \n",
    "    rows = 5,\n",
    "    description = 'choix du dossier :',\n",
    "    disabled = False\n",
    ")\n",
    "\n",
    "# Grille des parametres\n",
    "grille2_2 = TwoByTwoLayout(top_left = choix_nb_article,\n",
    "                bottom_left = choix_langue,\n",
    "                top_right = choix_repertoire,\n",
    ")"
   ]
  },
  {
   "cell_type": "code",
   "execution_count": 19,
   "id": "bdc46678",
   "metadata": {},
   "outputs": [],
   "source": [
    "# Bouton \n",
    "button = widgets.Button(description=\"Lancer l'extraction\")\n",
    "output = widgets.Output()\n",
    "\n",
    "def on_button_clicked(b, nombre_articles_a_extraire = 2):\n",
    "    with output:\n",
    "        print(\"Lancement en cours.\")\n",
    "        nombre_articles_a_extraire = choix_nb_article.value\n",
    "        langue = choix_langue.value\n",
    "        chemin_extraction = choix_repertoire.value\n",
    "\n",
    "        modele.extraction_wikipedienne(langue, chemin_extraction, nombre_articles_a_extraire)\n",
    "\n",
    "button.on_click(on_button_clicked)"
   ]
  },
  {
   "cell_type": "markdown",
   "id": "aa9c0546",
   "metadata": {},
   "source": [
    "## Affichage de l'interface"
   ]
  },
  {
   "cell_type": "markdown",
   "id": "1efc3a39",
   "metadata": {},
   "source": [
    "### Paramater et faire l'extraction d'article de WP"
   ]
  },
  {
   "cell_type": "code",
   "execution_count": 21,
   "id": "f728c00c",
   "metadata": {},
   "outputs": [
    {
     "data": {
      "application/vnd.jupyter.widget-view+json": {
       "model_id": "b3179ba28e9d4c0aba44d0d250701dfe",
       "version_major": 2,
       "version_minor": 0
      },
      "text/plain": [
       "TwoByTwoLayout(children=(BoundedIntText(value=3, description=\"Combien d'articles voulez vous extraire ?\", layo…"
      ]
     },
     "metadata": {},
     "output_type": "display_data"
    },
    {
     "data": {
      "application/vnd.jupyter.widget-view+json": {
       "model_id": "5baabf00d0964fbc95dcdfab1745c4a9",
       "version_major": 2,
       "version_minor": 0
      },
      "text/plain": [
       "Button(description=\"Lancer l'extraction\", style=ButtonStyle())"
      ]
     },
     "metadata": {},
     "output_type": "display_data"
    },
    {
     "data": {
      "application/vnd.jupyter.widget-view+json": {
       "model_id": "aa07ba8000e64c76bb3279daf98355c2",
       "version_major": 2,
       "version_minor": 0
      },
      "text/plain": [
       "Output(outputs=({'output_type': 'stream', 'text': 'Lancement en cours.\\nArticle Traité de Tudilén ajouté\\nArti…"
      ]
     },
     "metadata": {},
     "output_type": "display_data"
    }
   ],
   "source": [
    "display(grille2_2)\n",
    "display(button, output)"
   ]
  },
  {
   "cell_type": "code",
   "execution_count": null,
   "id": "b8a57455",
   "metadata": {},
   "outputs": [],
   "source": []
  }
 ],
 "metadata": {
  "kernelspec": {
   "display_name": "Python 3 (ipykernel)",
   "language": "python",
   "name": "python3"
  },
  "language_info": {
   "codemirror_mode": {
    "name": "ipython",
    "version": 3
   },
   "file_extension": ".py",
   "mimetype": "text/x-python",
   "name": "python",
   "nbconvert_exporter": "python",
   "pygments_lexer": "ipython3",
   "version": "3.11.4"
  }
 },
 "nbformat": 4,
 "nbformat_minor": 5
}
