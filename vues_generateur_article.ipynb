{
 "cells": [
  {
   "cell_type": "markdown",
   "id": "6bf611d1",
   "metadata": {},
   "source": [
    "# Vues pour le générateur d'article"
   ]
  },
  {
   "cell_type": "markdown",
   "id": "3df1af30",
   "metadata": {},
   "source": [
    "- Autair : Silanoc\n",
    "- octobre 2023\n",
    "- version : 2.2"
   ]
  },
  {
   "cell_type": "code",
   "execution_count": 1,
   "id": "4597db85",
   "metadata": {},
   "outputs": [
    {
     "name": "stdout",
     "output_type": "stream",
     "text": [
      "importing Jupyter notebook from generateur_article.ipynb\n",
      "Article Lincoln Palomeque ajouté\n",
      "Article Premier ministre des Pays-Bas ajouté\n",
      "Jusqu en solitaire\n",
      "entre deux pères ni à blanc\n",
      "dans l envers le nom à prévenir d une bataille connue d autres fêtards\n",
      "c est soutenue fin à la recherche sur Ford Escort RS Cosworth victoire des relations internationales Portail du matin les noyer dans la surveillance électronique Takashi Okano\n",
      "Masterisation Yuka Koizumi\n",
      "Enregistrement Shinichi Usui Yasushi Shiota\n",
      "Mixage Shinichi Usui Yasushi Shiota\n",
      "Mixage Shinichi Usui\n",
      "Chœurs Mana Hasegawa titre Paris Les classes populaires du temps d aide internationale Rencesvals Éditeur scientifique ou Le parlement de 2001 p 37-51 ISSN 0339-1752 BNF 34664251\n",
      "Archives départementales des fantaisies de LyonŒuvres de formats variés publicités à guichet 102\n",
      "joue le soleil joue en considérant comme Vivienne Westwood pour un mets mon réseau\n",
      "à sauté sur le maximum notamment obtenu son premier jeu vidéo permettant à préserver l un juge seul en Référence uBio site web Ludism Portail des droits pour les ingénieurs pour les animaux Une truite diploïde fumée de l opera mundi\n",
      "le succès-sucette à leur transparence édulcorent\n",
      "les derniers alliés s est protégé par la dernière rengaine\n",
      "la ballade d emploi d origine il vous attends\n",
      "je sais plus profonde en 2008 Olbermann en hauteur ont très importants\n",
      "L abri situé dans le Conseil des Bernardins lequel croyait que mon cœur\n",
      "palpiter tout ne s éteignant avec l art à la médaille du chaos\n",
      "nous n ont rien contre le pogo nuptial\n",
      "l heure où il se produisent en raison comme le droit des versants Ils disposent chacun Giacomo de Beauchamp\n",
      "Yves Laissus L échec \n",
      "Les Lao Theung de Voynich et judaïques\n",
      " Liens externes \n",
      "Ressources relatives à Liverpool pendant les\n"
     ]
    }
   ],
   "source": [
    "import import_ipynb\n",
    "import generateur_article as modele\n",
    "\n",
    "import ipywidgets as widgets\n",
    "from ipywidgets import TwoByTwoLayout, Layout\n",
    "from IPython.display import display"
   ]
  },
  {
   "cell_type": "markdown",
   "id": "079dce1c",
   "metadata": {},
   "source": [
    "## Création de l'interface\n",
    "Il faut tout exécuter"
   ]
  },
  {
   "cell_type": "markdown",
   "id": "139a9209",
   "metadata": {},
   "source": [
    "### Pour faire l'extration de WP "
   ]
  },
  {
   "cell_type": "code",
   "execution_count": null,
   "id": "9f1d23f1",
   "metadata": {},
   "outputs": [],
   "source": [
    "# pour afficher les descriptions correctement\n",
    "style = {'description_width': 'initial'}\n",
    "\n",
    "# Les paramètres\n",
    "choix_nb_article = widgets.BoundedIntText(\n",
    "    value = 3, \n",
    "    min = 2, max = 20, step = 1,\n",
    "    description = \"Combien d'articles voulez vous extraire ?\", style = style, \n",
    "    disabled = False,\n",
    "    continuous_update = False,\n",
    "    readout = True,\n",
    ")\n",
    "\n",
    "choix_langue = widgets.Select(\n",
    "    options = ['fr', 'en'],style = style,\n",
    "    value = 'fr',\n",
    "    rows = 2,\n",
    "    description = 'Version linguistique:',\n",
    "    disabled = False\n",
    ")\n",
    "\n",
    "choix_repertoire = widgets.Select(\n",
    "    options = modele.lister_les_sous_repertoire(),style = style, \n",
    "    rows = 5,\n",
    "    description = 'Choix du dossier :',\n",
    "    disabled = False\n",
    ")\n",
    "\n",
    "# Grille des parametres\n",
    "grille2_2 = TwoByTwoLayout(top_left = choix_nb_article,\n",
    "                bottom_left = choix_langue,\n",
    "                top_right = choix_repertoire,\n",
    ")"
   ]
  },
  {
   "cell_type": "code",
   "execution_count": null,
   "id": "bdc46678",
   "metadata": {},
   "outputs": [],
   "source": [
    "# Bouton \n",
    "button = widgets.Button(description=\"Lancer l'extraction\")\n",
    "output = widgets.Output()\n",
    "\n",
    "def on_button_clicked(b):\n",
    "    with output:\n",
    "        print(\"Lancement en cours.\")\n",
    "        nombre_articles_a_extraire = choix_nb_article.value\n",
    "        langue = choix_langue.value\n",
    "        chemin_extraction = choix_repertoire.value\n",
    "\n",
    "        modele.extraction_wikipedienne(langue, chemin_extraction, nombre_articles_a_extraire)\n",
    "\n",
    "button.on_click(on_button_clicked)"
   ]
  },
  {
   "cell_type": "markdown",
   "id": "1d6f50ce",
   "metadata": {},
   "source": [
    "## Pour générer un article\n",
    "ou_sont_les_sources : str = \"vrai_texte/tout\"\n",
    "nb_mot_article : int = 250"
   ]
  },
  {
   "cell_type": "code",
   "execution_count": 2,
   "id": "64b19aad",
   "metadata": {},
   "outputs": [],
   "source": [
    "# pour afficher les descriptions correctement\n",
    "style = {'description_width': 'initial'}\n",
    "\n",
    "# Les paramètres\n",
    "choix_taille_article = widgets.BoundedIntText(\n",
    "    value = 250, \n",
    "    min = 50, max = 1000, step = 1,\n",
    "    description = \"Combien de mot l'article doit-il contenir ?\", style = style, \n",
    "    disabled = False,\n",
    "    continuous_update = False,\n",
    "    readout = True,\n",
    ")\n",
    "\n",
    "choix_repertoire = widgets.Select(\n",
    "    options = modele.lister_les_sous_repertoire(),style = style, \n",
    "    rows = 5,\n",
    "    description = \"Choix du dossier où des textes d'entrée:\",\n",
    "    disabled = False,\n",
    "    layout=Layout(width='100%', height='100px')\n",
    ")"
   ]
  },
  {
   "cell_type": "code",
   "execution_count": 3,
   "id": "7f55d983",
   "metadata": {},
   "outputs": [],
   "source": [
    "# Bouton \n",
    "button_generer_article = widgets.Button(description=\"Lancer la rédaction\")\n",
    "output_generer_article = widgets.Output()\n",
    "\n",
    "nouvel_article = \"\"\n",
    "\n",
    "def on_button_clicked_generer_article(b):\n",
    "    with output_generer_article:\n",
    "        global nouvel_article\n",
    "        print(\"Rédaction en cours.\")\n",
    "        ou_sont_les_sources = choix_repertoire.value\n",
    "        nb_mot_article = choix_taille_article.value\n",
    "\n",
    "        nouvel_article = modele.generation(modele.superdico, modele.nb_mot_article)\n",
    "        print(nouvel_article)\n",
    "\n",
    "button_generer_article.on_click(on_button_clicked_generer_article)\n"
   ]
  },
  {
   "cell_type": "code",
   "execution_count": 4,
   "id": "695f95dc",
   "metadata": {},
   "outputs": [
    {
     "data": {
      "application/vnd.jupyter.widget-view+json": {
       "model_id": "746c8c1d49bd4887b92ec64f2fa2f14d",
       "version_major": 2,
       "version_minor": 0
      },
      "text/plain": [
       "Button(description='Lancer la rédaction', style=ButtonStyle())"
      ]
     },
     "metadata": {},
     "output_type": "display_data"
    },
    {
     "data": {
      "application/vnd.jupyter.widget-view+json": {
       "model_id": "c32983b9a1d74158a6e024f6698a82c4",
       "version_major": 2,
       "version_minor": 0
      },
      "text/plain": [
       "Output()"
      ]
     },
     "metadata": {},
     "output_type": "display_data"
    }
   ],
   "source": [
    "display(button_generer_article, output_generer_article)"
   ]
  },
  {
   "cell_type": "markdown",
   "id": "103d4a2d",
   "metadata": {},
   "source": [
    "## créer fichier"
   ]
  },
  {
   "cell_type": "code",
   "execution_count": 9,
   "id": "4e342a49",
   "metadata": {},
   "outputs": [],
   "source": [
    "# Bouton \n",
    "button_creer_fichier_article = widgets.Button(description=\"créer fichier\")\n",
    "output_creer_fichier_article = widgets.Output()\n",
    "\n",
    "\n",
    "def on_button_clicked_creer_fichier_article(b):\n",
    "    with output_creer_fichier_article:\n",
    " \n",
    "        modele.avoir_un_fichier(nouvel_article)\n",
    "        print(\"fichier créé\")\n",
    "\n",
    "button_creer_fichier_article.on_click(on_button_clicked_creer_fichier_article)"
   ]
  },
  {
   "cell_type": "code",
   "execution_count": 10,
   "id": "1a92c1b0",
   "metadata": {},
   "outputs": [
    {
     "data": {
      "application/vnd.jupyter.widget-view+json": {
       "model_id": "7eefe8777e57413c90d9ab262bed48a5",
       "version_major": 2,
       "version_minor": 0
      },
      "text/plain": [
       "Button(description='Lancer la rédaction', style=ButtonStyle())"
      ]
     },
     "metadata": {},
     "output_type": "display_data"
    },
    {
     "data": {
      "application/vnd.jupyter.widget-view+json": {
       "model_id": "018be1b729924a9c8ca0321771d778bd",
       "version_major": 2,
       "version_minor": 0
      },
      "text/plain": [
       "Output()"
      ]
     },
     "metadata": {},
     "output_type": "display_data"
    }
   ],
   "source": [
    "display(button_creer_fichier_article, output_creer_fichier_article)"
   ]
  },
  {
   "cell_type": "code",
   "execution_count": null,
   "id": "3bfdaf8d",
   "metadata": {},
   "outputs": [],
   "source": []
  }
 ],
 "metadata": {
  "kernelspec": {
   "display_name": "Python 3 (ipykernel)",
   "language": "python",
   "name": "python3"
  },
  "language_info": {
   "codemirror_mode": {
    "name": "ipython",
    "version": 3
   },
   "file_extension": ".py",
   "mimetype": "text/x-python",
   "name": "python",
   "nbconvert_exporter": "python",
   "pygments_lexer": "ipython3",
   "version": "3.11.4"
  }
 },
 "nbformat": 4,
 "nbformat_minor": 5
}
